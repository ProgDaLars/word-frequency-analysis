{
 "cells": [
  {
   "cell_type": "markdown",
   "id": "0146687f-9989-4f78-b420-af2b92a32d43",
   "metadata": {},
   "source": [
    "## Famous Salami\n",
    "## salamifamous@gmail.com"
   ]
  },
  {
   "cell_type": "markdown",
   "id": "00556591-9f3c-42ec-80bb-901ad168cd2e",
   "metadata": {},
   "source": [
    "# Task: Word Frequency Analysis"
   ]
  },
  {
   "cell_type": "code",
   "execution_count": 1,
   "id": "9c3face3-d4e1-4a21-8c90-90ec7dedb51c",
   "metadata": {},
   "outputs": [],
   "source": [
    "# Libraries\n",
    "\n",
    "import pandas as pd\n",
    "import re\n",
    "from collections import Counter\n",
    "import json"
   ]
  },
  {
   "cell_type": "markdown",
   "id": "f8f07dfc-6de8-4319-8c6f-fce25a6c6dc1",
   "metadata": {},
   "source": [
    "### Load json Data"
   ]
  },
  {
   "cell_type": "code",
   "execution_count": 2,
   "id": "1eadd0f9-b195-4e87-b919-1d736c9263c4",
   "metadata": {},
   "outputs": [],
   "source": [
    "jsonData = 'input_data.json'\n",
    "\n",
    "with open(jsonData) as jsonfile:\n",
    "    data = json.load(jsonfile)\n"
   ]
  },
  {
   "cell_type": "markdown",
   "id": "59cdd0a4-3954-4a98-b730-4155f7a1adb9",
   "metadata": {},
   "source": [
    "### Text Processing"
   ]
  },
  {
   "cell_type": "code",
   "execution_count": 3,
   "id": "c50b48c6-175e-4a25-a1fa-0bb561b10f5b",
   "metadata": {},
   "outputs": [],
   "source": [
    "abstract_list = []\n",
    "common_words = []\n",
    "\n",
    "# Extracting the abstracts into a list\n",
    "for item in data:\n",
    "    abstract_list.append(item['abstract']['_value'])\n",
    "\n",
    "# Creating a unique id for each petition\n",
    "petition_ids = range(1, len(abstract_list) + 1)\n",
    "\n",
    "# Function to create a list of all words with 5 or more characters in the abstracts\n",
    "def find_words(text_list, nchars):\n",
    "    words = [re.findall(rf'\\b\\w{{{nchars},}}\\b', abstract.lower()) for abstract in text_list]\n",
    "    return words\n",
    "\n",
    "# Identifying words with 5 or more characters\n",
    "target_words = find_words(abstract_list, 5)\n",
    "\n",
    "# Creating a list of all target words\n",
    "all_words = [word for sublist in target_words for word in sublist]\n",
    "\n",
    "# Finding the 20 most common words\n",
    "all_word_counts = Counter(all_words)\n",
    "for word, word_count in all_word_counts.most_common(20):\n",
    "    common_words.append(word)\n",
    "\n",
    "# Counting the occurrences of the \"most common words\" in each abstract\n",
    "word_counts = [[word_list.count(word) for word in common_words] for word_list in target_words]\n",
    "\n",
    "# Creating a DataFrame of petition IDs and word frequencies\n",
    "output_df = pd.DataFrame(word_counts, columns=common_words)\n",
    "output_df.insert(0, 'petition_id', petition_ids)\n",
    "\n",
    "# Writing to a CSV file\n",
    "output_df.to_csv('petitions_analysis.csv', index=False)"
   ]
  },
  {
   "cell_type": "code",
   "execution_count": 4,
   "id": "15f26e4f-1069-46ee-a68c-8529f41f9258",
   "metadata": {},
   "outputs": [
    {
     "name": "stdout",
     "output_type": "stream",
     "text": [
      "[('should', 3193), ('their', 2898), ('people', 2883), ('government', 2144), ('there', 1647), ('would', 1513), ('which', 1335), ('children', 1316), ('being', 1303), ('years', 1071), ('these', 961), ('public', 940), ('other', 835), ('british', 744), ('health', 729), ('after', 656), ('country', 629), ('currently', 625), ('those', 616), ('referendum', 595)]\n",
      "\n",
      "['should', 'their', 'people', 'government', 'there', 'would', 'which', 'children', 'being', 'years', 'these', 'public', 'other', 'british', 'health', 'after', 'country', 'currently', 'those', 'referendum']\n"
     ]
    }
   ],
   "source": [
    "print((all_word_counts.most_common(20)))\n",
    "print(f'\\n{common_words}')"
   ]
  }
 ],
 "metadata": {
  "kernelspec": {
   "display_name": "Python 3 (ipykernel)",
   "language": "python",
   "name": "python3"
  },
  "language_info": {
   "codemirror_mode": {
    "name": "ipython",
    "version": 3
   },
   "file_extension": ".py",
   "mimetype": "text/x-python",
   "name": "python",
   "nbconvert_exporter": "python",
   "pygments_lexer": "ipython3",
   "version": "3.11.5"
  }
 },
 "nbformat": 4,
 "nbformat_minor": 5
}
